{
 "cells": [
  {
   "cell_type": "markdown",
   "metadata": {
    "id": "67-M1nEeS0Mx"
   },
   "source": [
    "# Read in cvs of tweets and get GPT analysis"
   ]
  },
  {
   "cell_type": "markdown",
   "metadata": {
    "id": "b2NQm37JYczV"
   },
   "source": [
    "### Run all cells:\n",
    "  - `ctrl`+`shift`+`P` -> \"run all cells in notebook\"\n",
    "\n",
    "    Or\n",
    "  - Runtime > Run all\n",
    "\n",
    "    Or\n",
    "  - `ctrl` + `F9`\n",
    "### Once complete, final excel files will be saved to the local runtime environment"
   ]
  },
  {
   "cell_type": "markdown",
   "metadata": {
    "id": "cMzA6nVwj8GB"
   },
   "source": [
    "# Read Scraped Tweets and Do Some Cleanup"
   ]
  },
  {
   "cell_type": "markdown",
   "metadata": {
    "id": "pK1bSrPZHfQh"
   },
   "source": [
    "## Download the CSV from the scraped epidural tweets"
   ]
  },
  {
   "cell_type": "code",
   "execution_count": 9,
   "metadata": {
    "colab": {
     "base_uri": "https://localhost:8080/"
    },
    "id": "bLrvXUy8Azks",
    "outputId": "f5bfa634-7796-450e-eb46-35a18915f9aa"
   },
   "outputs": [
    {
     "data": {
      "text/plain": [
       "<Response [200]>"
      ]
     },
     "execution_count": 9,
     "metadata": {},
     "output_type": "execute_result"
    }
   ],
   "source": [
    "import requests\n",
    "\n",
    "url = 'https://media.githubusercontent.com/media/kswanjitsu/epidural/main/filtered_df.csv'\n",
    "resp = requests.get(url, headers={'User-Agent': 'Mozilla/5.0'})\n",
    "resp"
   ]
  },
  {
   "cell_type": "markdown",
   "metadata": {
    "id": "FzS3YtSLHx45"
   },
   "source": [
    "### Read data to pandas DataFrame"
   ]
  },
  {
   "cell_type": "code",
   "execution_count": 10,
   "metadata": {
    "colab": {
     "base_uri": "https://localhost:8080/",
     "height": 771
    },
    "id": "bxlLXZcUBp6_",
    "outputId": "34014e6f-494f-42bf-d9dd-6a48aba0f448"
   },
   "outputs": [
    {
     "data": {
      "text/html": [
       "<div>\n",
       "<style scoped>\n",
       "    .dataframe tbody tr th:only-of-type {\n",
       "        vertical-align: middle;\n",
       "    }\n",
       "\n",
       "    .dataframe tbody tr th {\n",
       "        vertical-align: top;\n",
       "    }\n",
       "\n",
       "    .dataframe thead th {\n",
       "        text-align: right;\n",
       "    }\n",
       "</style>\n",
       "<table border=\"1\" class=\"dataframe\">\n",
       "  <thead>\n",
       "    <tr style=\"text-align: right;\">\n",
       "      <th></th>\n",
       "      <th>Unnamed: 0</th>\n",
       "      <th>User</th>\n",
       "      <th>Time</th>\n",
       "      <th>Likes</th>\n",
       "      <th>Source</th>\n",
       "      <th>Tweet</th>\n",
       "      <th>cleaned_tweet</th>\n",
       "      <th>sent_analysis</th>\n",
       "      <th>topic</th>\n",
       "    </tr>\n",
       "  </thead>\n",
       "  <tbody>\n",
       "    <tr>\n",
       "      <th>0</th>\n",
       "      <td>11</td>\n",
       "      <td>sidney_ella</td>\n",
       "      <td>2009-12-28 21:37:33+00:00</td>\n",
       "      <td>0.0</td>\n",
       "      <td>Twitter Web Client</td>\n",
       "      <td>@heartsandhandss I think women who choose natu...</td>\n",
       "      <td>@user i think women who choose natural are lik...</td>\n",
       "      <td>{'label': 'positive', 'score': 0.8187388181686...</td>\n",
       "      <td>1</td>\n",
       "    </tr>\n",
       "    <tr>\n",
       "      <th>1</th>\n",
       "      <td>104</td>\n",
       "      <td>emilyrdickey</td>\n",
       "      <td>2009-12-05 01:52:13+00:00</td>\n",
       "      <td>0.0</td>\n",
       "      <td>Twitter Web Client</td>\n",
       "      <td>@Wonderkarin the Bradley method is husband coa...</td>\n",
       "      <td>@user the bradley method is husband coached bi...</td>\n",
       "      <td>{'label': 'neutral', 'score': 0.9033392667770386}</td>\n",
       "      <td>1</td>\n",
       "    </tr>\n",
       "    <tr>\n",
       "      <th>2</th>\n",
       "      <td>123</td>\n",
       "      <td>Stile15</td>\n",
       "      <td>2009-12-01 18:43:35+00:00</td>\n",
       "      <td>0.0</td>\n",
       "      <td>Twitter Web Client</td>\n",
       "      <td>my sister wanted to do a natural birth but she...</td>\n",
       "      <td>my sister wanted to do a natural birth but she...</td>\n",
       "      <td>{'label': 'negative', 'score': 0.7766241431236...</td>\n",
       "      <td>1</td>\n",
       "    </tr>\n",
       "    <tr>\n",
       "      <th>3</th>\n",
       "      <td>166</td>\n",
       "      <td>BenryHailey</td>\n",
       "      <td>2009-11-13 22:24:00+00:00</td>\n",
       "      <td>0.0</td>\n",
       "      <td>Twitter Web Client</td>\n",
       "      <td>#haveababybyme u betta have health insurance c...</td>\n",
       "      <td>#haveababybyme u betta have health insurance c...</td>\n",
       "      <td>{'label': 'negative', 'score': 0.6303679347038...</td>\n",
       "      <td>1</td>\n",
       "    </tr>\n",
       "    <tr>\n",
       "      <th>4</th>\n",
       "      <td>194</td>\n",
       "      <td>bethany529</td>\n",
       "      <td>2009-11-09 00:56:08+00:00</td>\n",
       "      <td>0.0</td>\n",
       "      <td>Twitter Web Client</td>\n",
       "      <td>My co-workers wife just gave natural birth to ...</td>\n",
       "      <td>my co-workers wife just gave natural birth to ...</td>\n",
       "      <td>{'label': 'negative', 'score': 0.8341954946517...</td>\n",
       "      <td>1</td>\n",
       "    </tr>\n",
       "    <tr>\n",
       "      <th>...</th>\n",
       "      <td>...</td>\n",
       "      <td>...</td>\n",
       "      <td>...</td>\n",
       "      <td>...</td>\n",
       "      <td>...</td>\n",
       "      <td>...</td>\n",
       "      <td>...</td>\n",
       "      <td>...</td>\n",
       "      <td>...</td>\n",
       "    </tr>\n",
       "    <tr>\n",
       "      <th>431519</th>\n",
       "      <td>658393</td>\n",
       "      <td>amil</td>\n",
       "      <td>2018-01-01 04:47:59+00:00</td>\n",
       "      <td>1.0</td>\n",
       "      <td>Twitter for iPhone</td>\n",
       "      <td>@chantalbraganza Damn. I had a 24 hr labour bu...</td>\n",
       "      <td>@user damn. i had a 24 hr labour but with the ...</td>\n",
       "      <td>{'label': 'neutral', 'score': 0.37650564312934...</td>\n",
       "      <td>1</td>\n",
       "    </tr>\n",
       "    <tr>\n",
       "      <th>431520</th>\n",
       "      <td>658395</td>\n",
       "      <td>fiercekittenz</td>\n",
       "      <td>2018-01-01 03:07:46+00:00</td>\n",
       "      <td>1.0</td>\n",
       "      <td>Twitter Web Client</td>\n",
       "      <td>@DallasNChains @christawatson @katemorris Spea...</td>\n",
       "      <td>@user @user @user speaking as someone who had ...</td>\n",
       "      <td>{'label': 'negative', 'score': 0.4943246245384...</td>\n",
       "      <td>1</td>\n",
       "    </tr>\n",
       "    <tr>\n",
       "      <th>431521</th>\n",
       "      <td>658397</td>\n",
       "      <td>WrightByrdYT</td>\n",
       "      <td>2018-01-01 01:28:34+00:00</td>\n",
       "      <td>0.0</td>\n",
       "      <td>Twitter for Android</td>\n",
       "      <td>@Fact Well yeah if you don't have an epidural</td>\n",
       "      <td>@user well yeah if you don't have an epidural</td>\n",
       "      <td>{'label': 'neutral', 'score': 0.7822378873825073}</td>\n",
       "      <td>1</td>\n",
       "    </tr>\n",
       "    <tr>\n",
       "      <th>431522</th>\n",
       "      <td>658398</td>\n",
       "      <td>MorganShaw513</td>\n",
       "      <td>2018-01-01 01:09:31+00:00</td>\n",
       "      <td>1.0</td>\n",
       "      <td>Twitter for iPhone</td>\n",
       "      <td>@lynkrystal Yeah Iâm definitely terrified of...</td>\n",
       "      <td>@user yeah iâm definitely terrified of havin...</td>\n",
       "      <td>{'label': 'negative', 'score': 0.6401897072792...</td>\n",
       "      <td>1</td>\n",
       "    </tr>\n",
       "    <tr>\n",
       "      <th>431523</th>\n",
       "      <td>658400</td>\n",
       "      <td>c_tittytat</td>\n",
       "      <td>2018-01-01 00:22:54+00:00</td>\n",
       "      <td>0.0</td>\n",
       "      <td>Twitter for iPhone</td>\n",
       "      <td>@hcarlin_ I had a 1 degree rip &amp;amp; I kept pu...</td>\n",
       "      <td>@user i had a 1 degree rip &amp;amp; i kept puttin...</td>\n",
       "      <td>{'label': 'negative', 'score': 0.6211128830909...</td>\n",
       "      <td>1</td>\n",
       "    </tr>\n",
       "  </tbody>\n",
       "</table>\n",
       "<p>431524 rows × 9 columns</p>\n",
       "</div>"
      ],
      "text/plain": [
       "        Unnamed: 0           User                       Time  Likes  \\\n",
       "0               11    sidney_ella  2009-12-28 21:37:33+00:00    0.0   \n",
       "1              104   emilyrdickey  2009-12-05 01:52:13+00:00    0.0   \n",
       "2              123        Stile15  2009-12-01 18:43:35+00:00    0.0   \n",
       "3              166    BenryHailey  2009-11-13 22:24:00+00:00    0.0   \n",
       "4              194     bethany529  2009-11-09 00:56:08+00:00    0.0   \n",
       "...            ...            ...                        ...    ...   \n",
       "431519      658393           amil  2018-01-01 04:47:59+00:00    1.0   \n",
       "431520      658395  fiercekittenz  2018-01-01 03:07:46+00:00    1.0   \n",
       "431521      658397   WrightByrdYT  2018-01-01 01:28:34+00:00    0.0   \n",
       "431522      658398  MorganShaw513  2018-01-01 01:09:31+00:00    1.0   \n",
       "431523      658400     c_tittytat  2018-01-01 00:22:54+00:00    0.0   \n",
       "\n",
       "                     Source  \\\n",
       "0        Twitter Web Client   \n",
       "1        Twitter Web Client   \n",
       "2        Twitter Web Client   \n",
       "3        Twitter Web Client   \n",
       "4        Twitter Web Client   \n",
       "...                     ...   \n",
       "431519   Twitter for iPhone   \n",
       "431520   Twitter Web Client   \n",
       "431521  Twitter for Android   \n",
       "431522   Twitter for iPhone   \n",
       "431523   Twitter for iPhone   \n",
       "\n",
       "                                                    Tweet  \\\n",
       "0       @heartsandhandss I think women who choose natu...   \n",
       "1       @Wonderkarin the Bradley method is husband coa...   \n",
       "2       my sister wanted to do a natural birth but she...   \n",
       "3       #haveababybyme u betta have health insurance c...   \n",
       "4       My co-workers wife just gave natural birth to ...   \n",
       "...                                                   ...   \n",
       "431519  @chantalbraganza Damn. I had a 24 hr labour bu...   \n",
       "431520  @DallasNChains @christawatson @katemorris Spea...   \n",
       "431521      @Fact Well yeah if you don't have an epidural   \n",
       "431522  @lynkrystal Yeah Iâm definitely terrified of...   \n",
       "431523  @hcarlin_ I had a 1 degree rip &amp; I kept pu...   \n",
       "\n",
       "                                            cleaned_tweet  \\\n",
       "0       @user i think women who choose natural are lik...   \n",
       "1       @user the bradley method is husband coached bi...   \n",
       "2       my sister wanted to do a natural birth but she...   \n",
       "3       #haveababybyme u betta have health insurance c...   \n",
       "4       my co-workers wife just gave natural birth to ...   \n",
       "...                                                   ...   \n",
       "431519  @user damn. i had a 24 hr labour but with the ...   \n",
       "431520  @user @user @user speaking as someone who had ...   \n",
       "431521      @user well yeah if you don't have an epidural   \n",
       "431522  @user yeah iâm definitely terrified of havin...   \n",
       "431523  @user i had a 1 degree rip &amp; i kept puttin...   \n",
       "\n",
       "                                            sent_analysis  topic  \n",
       "0       {'label': 'positive', 'score': 0.8187388181686...      1  \n",
       "1       {'label': 'neutral', 'score': 0.9033392667770386}      1  \n",
       "2       {'label': 'negative', 'score': 0.7766241431236...      1  \n",
       "3       {'label': 'negative', 'score': 0.6303679347038...      1  \n",
       "4       {'label': 'negative', 'score': 0.8341954946517...      1  \n",
       "...                                                   ...    ...  \n",
       "431519  {'label': 'neutral', 'score': 0.37650564312934...      1  \n",
       "431520  {'label': 'negative', 'score': 0.4943246245384...      1  \n",
       "431521  {'label': 'neutral', 'score': 0.7822378873825073}      1  \n",
       "431522  {'label': 'negative', 'score': 0.6401897072792...      1  \n",
       "431523  {'label': 'negative', 'score': 0.6211128830909...      1  \n",
       "\n",
       "[431524 rows x 9 columns]"
      ]
     },
     "execution_count": 10,
     "metadata": {},
     "output_type": "execute_result"
    }
   ],
   "source": [
    "import io\n",
    "import pandas as pd\n",
    "\n",
    "df = pd.read_csv(io.StringIO(resp.text))\n",
    "df"
   ]
  },
  {
   "cell_type": "markdown",
   "metadata": {
    "id": "-p9JA3bh5n-m"
   },
   "source": [
    "## Remove Dupes and Retweets"
   ]
  },
  {
   "cell_type": "code",
   "execution_count": 11,
   "metadata": {
    "colab": {
     "base_uri": "https://localhost:8080/",
     "height": 771
    },
    "id": "65LgMw9_y21D",
    "outputId": "e63cc8e5-79a8-422c-a70f-18aeebc9bd43"
   },
   "outputs": [
    {
     "data": {
      "text/html": [
       "<div>\n",
       "<style scoped>\n",
       "    .dataframe tbody tr th:only-of-type {\n",
       "        vertical-align: middle;\n",
       "    }\n",
       "\n",
       "    .dataframe tbody tr th {\n",
       "        vertical-align: top;\n",
       "    }\n",
       "\n",
       "    .dataframe thead th {\n",
       "        text-align: right;\n",
       "    }\n",
       "</style>\n",
       "<table border=\"1\" class=\"dataframe\">\n",
       "  <thead>\n",
       "    <tr style=\"text-align: right;\">\n",
       "      <th></th>\n",
       "      <th>Unnamed: 0</th>\n",
       "      <th>User</th>\n",
       "      <th>Time</th>\n",
       "      <th>Likes</th>\n",
       "      <th>Source</th>\n",
       "      <th>Tweet</th>\n",
       "      <th>cleaned_tweet</th>\n",
       "      <th>sent_analysis</th>\n",
       "      <th>topic</th>\n",
       "    </tr>\n",
       "  </thead>\n",
       "  <tbody>\n",
       "    <tr>\n",
       "      <th>0</th>\n",
       "      <td>11</td>\n",
       "      <td>sidney_ella</td>\n",
       "      <td>2009-12-28 21:37:33+00:00</td>\n",
       "      <td>0.0</td>\n",
       "      <td>Twitter Web Client</td>\n",
       "      <td>@heartsandhandss I think women who choose natu...</td>\n",
       "      <td>@user i think women who choose natural are lik...</td>\n",
       "      <td>{'label': 'positive', 'score': 0.8187388181686...</td>\n",
       "      <td>1</td>\n",
       "    </tr>\n",
       "    <tr>\n",
       "      <th>1</th>\n",
       "      <td>104</td>\n",
       "      <td>emilyrdickey</td>\n",
       "      <td>2009-12-05 01:52:13+00:00</td>\n",
       "      <td>0.0</td>\n",
       "      <td>Twitter Web Client</td>\n",
       "      <td>@Wonderkarin the Bradley method is husband coa...</td>\n",
       "      <td>@user the bradley method is husband coached bi...</td>\n",
       "      <td>{'label': 'neutral', 'score': 0.9033392667770386}</td>\n",
       "      <td>1</td>\n",
       "    </tr>\n",
       "    <tr>\n",
       "      <th>2</th>\n",
       "      <td>123</td>\n",
       "      <td>Stile15</td>\n",
       "      <td>2009-12-01 18:43:35+00:00</td>\n",
       "      <td>0.0</td>\n",
       "      <td>Twitter Web Client</td>\n",
       "      <td>my sister wanted to do a natural birth but she...</td>\n",
       "      <td>my sister wanted to do a natural birth but she...</td>\n",
       "      <td>{'label': 'negative', 'score': 0.7766241431236...</td>\n",
       "      <td>1</td>\n",
       "    </tr>\n",
       "    <tr>\n",
       "      <th>3</th>\n",
       "      <td>166</td>\n",
       "      <td>BenryHailey</td>\n",
       "      <td>2009-11-13 22:24:00+00:00</td>\n",
       "      <td>0.0</td>\n",
       "      <td>Twitter Web Client</td>\n",
       "      <td>#haveababybyme u betta have health insurance c...</td>\n",
       "      <td>#haveababybyme u betta have health insurance c...</td>\n",
       "      <td>{'label': 'negative', 'score': 0.6303679347038...</td>\n",
       "      <td>1</td>\n",
       "    </tr>\n",
       "    <tr>\n",
       "      <th>4</th>\n",
       "      <td>194</td>\n",
       "      <td>bethany529</td>\n",
       "      <td>2009-11-09 00:56:08+00:00</td>\n",
       "      <td>0.0</td>\n",
       "      <td>Twitter Web Client</td>\n",
       "      <td>My co-workers wife just gave natural birth to ...</td>\n",
       "      <td>my co-workers wife just gave natural birth to ...</td>\n",
       "      <td>{'label': 'negative', 'score': 0.8341954946517...</td>\n",
       "      <td>1</td>\n",
       "    </tr>\n",
       "    <tr>\n",
       "      <th>...</th>\n",
       "      <td>...</td>\n",
       "      <td>...</td>\n",
       "      <td>...</td>\n",
       "      <td>...</td>\n",
       "      <td>...</td>\n",
       "      <td>...</td>\n",
       "      <td>...</td>\n",
       "      <td>...</td>\n",
       "      <td>...</td>\n",
       "    </tr>\n",
       "    <tr>\n",
       "      <th>431519</th>\n",
       "      <td>658393</td>\n",
       "      <td>amil</td>\n",
       "      <td>2018-01-01 04:47:59+00:00</td>\n",
       "      <td>1.0</td>\n",
       "      <td>Twitter for iPhone</td>\n",
       "      <td>@chantalbraganza Damn. I had a 24 hr labour bu...</td>\n",
       "      <td>@user damn. i had a 24 hr labour but with the ...</td>\n",
       "      <td>{'label': 'neutral', 'score': 0.37650564312934...</td>\n",
       "      <td>1</td>\n",
       "    </tr>\n",
       "    <tr>\n",
       "      <th>431520</th>\n",
       "      <td>658395</td>\n",
       "      <td>fiercekittenz</td>\n",
       "      <td>2018-01-01 03:07:46+00:00</td>\n",
       "      <td>1.0</td>\n",
       "      <td>Twitter Web Client</td>\n",
       "      <td>@DallasNChains @christawatson @katemorris Spea...</td>\n",
       "      <td>@user @user @user speaking as someone who had ...</td>\n",
       "      <td>{'label': 'negative', 'score': 0.4943246245384...</td>\n",
       "      <td>1</td>\n",
       "    </tr>\n",
       "    <tr>\n",
       "      <th>431521</th>\n",
       "      <td>658397</td>\n",
       "      <td>WrightByrdYT</td>\n",
       "      <td>2018-01-01 01:28:34+00:00</td>\n",
       "      <td>0.0</td>\n",
       "      <td>Twitter for Android</td>\n",
       "      <td>@Fact Well yeah if you don't have an epidural</td>\n",
       "      <td>@user well yeah if you don't have an epidural</td>\n",
       "      <td>{'label': 'neutral', 'score': 0.7822378873825073}</td>\n",
       "      <td>1</td>\n",
       "    </tr>\n",
       "    <tr>\n",
       "      <th>431522</th>\n",
       "      <td>658398</td>\n",
       "      <td>MorganShaw513</td>\n",
       "      <td>2018-01-01 01:09:31+00:00</td>\n",
       "      <td>1.0</td>\n",
       "      <td>Twitter for iPhone</td>\n",
       "      <td>@lynkrystal Yeah Iâm definitely terrified of...</td>\n",
       "      <td>@user yeah iâm definitely terrified of havin...</td>\n",
       "      <td>{'label': 'negative', 'score': 0.6401897072792...</td>\n",
       "      <td>1</td>\n",
       "    </tr>\n",
       "    <tr>\n",
       "      <th>431523</th>\n",
       "      <td>658400</td>\n",
       "      <td>c_tittytat</td>\n",
       "      <td>2018-01-01 00:22:54+00:00</td>\n",
       "      <td>0.0</td>\n",
       "      <td>Twitter for iPhone</td>\n",
       "      <td>@hcarlin_ I had a 1 degree rip &amp;amp; I kept pu...</td>\n",
       "      <td>@user i had a 1 degree rip &amp;amp; i kept puttin...</td>\n",
       "      <td>{'label': 'negative', 'score': 0.6211128830909...</td>\n",
       "      <td>1</td>\n",
       "    </tr>\n",
       "  </tbody>\n",
       "</table>\n",
       "<p>392944 rows × 9 columns</p>\n",
       "</div>"
      ],
      "text/plain": [
       "        Unnamed: 0           User                       Time  Likes  \\\n",
       "0               11    sidney_ella  2009-12-28 21:37:33+00:00    0.0   \n",
       "1              104   emilyrdickey  2009-12-05 01:52:13+00:00    0.0   \n",
       "2              123        Stile15  2009-12-01 18:43:35+00:00    0.0   \n",
       "3              166    BenryHailey  2009-11-13 22:24:00+00:00    0.0   \n",
       "4              194     bethany529  2009-11-09 00:56:08+00:00    0.0   \n",
       "...            ...            ...                        ...    ...   \n",
       "431519      658393           amil  2018-01-01 04:47:59+00:00    1.0   \n",
       "431520      658395  fiercekittenz  2018-01-01 03:07:46+00:00    1.0   \n",
       "431521      658397   WrightByrdYT  2018-01-01 01:28:34+00:00    0.0   \n",
       "431522      658398  MorganShaw513  2018-01-01 01:09:31+00:00    1.0   \n",
       "431523      658400     c_tittytat  2018-01-01 00:22:54+00:00    0.0   \n",
       "\n",
       "                     Source  \\\n",
       "0        Twitter Web Client   \n",
       "1        Twitter Web Client   \n",
       "2        Twitter Web Client   \n",
       "3        Twitter Web Client   \n",
       "4        Twitter Web Client   \n",
       "...                     ...   \n",
       "431519   Twitter for iPhone   \n",
       "431520   Twitter Web Client   \n",
       "431521  Twitter for Android   \n",
       "431522   Twitter for iPhone   \n",
       "431523   Twitter for iPhone   \n",
       "\n",
       "                                                    Tweet  \\\n",
       "0       @heartsandhandss I think women who choose natu...   \n",
       "1       @Wonderkarin the Bradley method is husband coa...   \n",
       "2       my sister wanted to do a natural birth but she...   \n",
       "3       #haveababybyme u betta have health insurance c...   \n",
       "4       My co-workers wife just gave natural birth to ...   \n",
       "...                                                   ...   \n",
       "431519  @chantalbraganza Damn. I had a 24 hr labour bu...   \n",
       "431520  @DallasNChains @christawatson @katemorris Spea...   \n",
       "431521      @Fact Well yeah if you don't have an epidural   \n",
       "431522  @lynkrystal Yeah Iâm definitely terrified of...   \n",
       "431523  @hcarlin_ I had a 1 degree rip &amp; I kept pu...   \n",
       "\n",
       "                                            cleaned_tweet  \\\n",
       "0       @user i think women who choose natural are lik...   \n",
       "1       @user the bradley method is husband coached bi...   \n",
       "2       my sister wanted to do a natural birth but she...   \n",
       "3       #haveababybyme u betta have health insurance c...   \n",
       "4       my co-workers wife just gave natural birth to ...   \n",
       "...                                                   ...   \n",
       "431519  @user damn. i had a 24 hr labour but with the ...   \n",
       "431520  @user @user @user speaking as someone who had ...   \n",
       "431521      @user well yeah if you don't have an epidural   \n",
       "431522  @user yeah iâm definitely terrified of havin...   \n",
       "431523  @user i had a 1 degree rip &amp; i kept puttin...   \n",
       "\n",
       "                                            sent_analysis  topic  \n",
       "0       {'label': 'positive', 'score': 0.8187388181686...      1  \n",
       "1       {'label': 'neutral', 'score': 0.9033392667770386}      1  \n",
       "2       {'label': 'negative', 'score': 0.7766241431236...      1  \n",
       "3       {'label': 'negative', 'score': 0.6303679347038...      1  \n",
       "4       {'label': 'negative', 'score': 0.8341954946517...      1  \n",
       "...                                                   ...    ...  \n",
       "431519  {'label': 'neutral', 'score': 0.37650564312934...      1  \n",
       "431520  {'label': 'negative', 'score': 0.4943246245384...      1  \n",
       "431521  {'label': 'neutral', 'score': 0.7822378873825073}      1  \n",
       "431522  {'label': 'negative', 'score': 0.6401897072792...      1  \n",
       "431523  {'label': 'negative', 'score': 0.6211128830909...      1  \n",
       "\n",
       "[392944 rows x 9 columns]"
      ]
     },
     "execution_count": 11,
     "metadata": {},
     "output_type": "execute_result"
    }
   ],
   "source": [
    "df_no_dupes = df.drop_duplicates(subset=['cleaned_tweet'])\n",
    "df_no_dupes_or_rts = df_no_dupes[~df_no_dupes['cleaned_tweet'].str.startswith('rt @')]\n",
    "df = df_no_dupes_or_rts\n",
    "df"
   ]
  },
  {
   "cell_type": "markdown",
   "metadata": {
    "id": "8Oqk4hlgj1XV"
   },
   "source": [
    "# GPT Analysis Section"
   ]
  },
  {
   "cell_type": "markdown",
   "metadata": {
    "id": "hXroOcvo5zJ9"
   },
   "source": [
    "## Count tokens per tweet"
   ]
  },
  {
   "cell_type": "code",
   "execution_count": null,
   "metadata": {
    "colab": {
     "base_uri": "https://localhost:8080/"
    },
    "id": "vp9UIM7Nz-TC",
    "outputId": "51f0b3ae-1508-4988-b8cc-fff9129d8d46"
   },
   "outputs": [],
   "source": [
    "!pip install --upgrade tiktoken"
   ]
  },
  {
   "cell_type": "code",
   "execution_count": null,
   "metadata": {
    "colab": {
     "base_uri": "https://localhost:8080/",
     "height": 944
    },
    "id": "Z9ir4N3gy8CX",
    "outputId": "2ce5e508-7b0f-4c93-afa0-e8c68cc89911"
   },
   "outputs": [],
   "source": [
    "import tiktoken\n",
    "\n",
    "\n",
    "# gpt_model = 'gpt-3.5-turbo'\n",
    "gpt_model = 'gpt-4'\n",
    "\n",
    "def num_tokens_from_string(string: str, encoding_name: str) -> int:\n",
    "    \"\"\"Returns the number of tokens in a text string.\"\"\"\n",
    "    encoding = tiktoken.get_encoding(encoding_name)\n",
    "    num_tokens = len(encoding.encode(string))\n",
    "    return num_tokens\n",
    "\n",
    "\n",
    "df['tok_per_twt'] = df['cleaned_tweet'].apply(lambda x: num_tokens_from_string(x, tiktoken.encoding_for_model(gpt_model).name))\n",
    "df"
   ]
  },
  {
   "cell_type": "markdown",
   "metadata": {
    "id": "OueuwUVzH-L5"
   },
   "source": [
    "### Install OpenAI and Langchain libraries"
   ]
  },
  {
   "cell_type": "code",
   "execution_count": null,
   "metadata": {
    "colab": {
     "base_uri": "https://localhost:8080/"
    },
    "id": "HpzXMlMzEwl1",
    "outputId": "945d023f-099d-442a-f6e7-649cf8dccc8c"
   },
   "outputs": [],
   "source": [
    "!pip install --upgrade openai langchain"
   ]
  },
  {
   "cell_type": "markdown",
   "metadata": {
    "id": "Hxm2KJGHIM_p"
   },
   "source": [
    "## Setup OpenAI key and instatiate a chat model to make the API calls"
   ]
  },
  {
   "cell_type": "code",
   "execution_count": null,
   "metadata": {
    "id": "qscqeHBLCImO"
   },
   "outputs": [],
   "source": [
    "import openai\n",
    "import os\n",
    "\n",
    "openai.api_key  = '<your_open_ai_key>'\n",
    "os.environ['OPENAI_API_KEY'] = openai.api_key"
   ]
  },
  {
   "cell_type": "code",
   "execution_count": null,
   "metadata": {
    "colab": {
     "base_uri": "https://localhost:8080/"
    },
    "id": "3lqxRG4kEzT1",
    "outputId": "0f6b15c6-6985-4f31-ce02-688e92cf885a"
   },
   "outputs": [],
   "source": [
    "from langchain.chat_models import ChatOpenAI\n",
    "\n",
    "chat = ChatOpenAI(temperature=0.0, model_name=gpt_model)\n",
    "chat"
   ]
  },
  {
   "cell_type": "markdown",
   "metadata": {
    "id": "2xaHHm79IYu5"
   },
   "source": [
    "### Prompt template\n",
    "\n",
    "Give the model instructions to interpret the message and format a response.\n",
    "\n",
    "**_text_** is a list of tweets string built in subsequent cell\n",
    "\n",
    "**_format_instructions_** is a langchain output parser, also built in subsequent cell"
   ]
  },
  {
   "cell_type": "code",
   "execution_count": null,
   "metadata": {
    "id": "Il97izg0HaR7"
   },
   "outputs": [],
   "source": [
    "from langchain.prompts import ChatPromptTemplate\n",
    "\n",
    "template_string = '''There is a list of posts demarcated by triple backticks (```).\n",
    "\n",
    "For each item in the list, determine:\n",
    "(1) if the author had an epidural or not\n",
    "(2) if their opinion of epidurals is positive, negative, or neutral\n",
    "(3) if their opinion on natural childbirth is positive, negative, or neutral\n",
    "\n",
    "```{text}```\n",
    "\n",
    "Respond with a list of python dictionaries corresponding to each message in the list.\n",
    "{format_instructions}\n",
    "\n",
    "'''"
   ]
  },
  {
   "cell_type": "markdown",
   "metadata": {
    "id": "lKulNt-wVOxq"
   },
   "source": [
    "#### Format instructions:\n",
    "- We want the model to return a list of json objects\n",
    "- This code describes each of the fields in the those JSON objects. This way we can parse the responses and convert it more easily into usable data."
   ]
  },
  {
   "cell_type": "code",
   "execution_count": null,
   "metadata": {
    "id": "7_8ofLt9HBKd"
   },
   "outputs": [],
   "source": [
    "from langchain.output_parsers import ResponseSchema\n",
    "from langchain.output_parsers import StructuredOutputParser\n",
    "\n",
    "\n",
    "index_schema = ResponseSchema(name=\"index\",\n",
    "                            description=\"The index number in front of the list entry\")\n",
    "\n",
    "about_epi_schema = ResponseSchema(name=\"about_epi\",\n",
    "                            description=\"Is the author mainly talking about epidurals or natural?\\\n",
    "                            1 for 'epidurals', 0 for 'natural', NaN if you could not determine.\\\n",
    "                            Response should ONLY be one of: [1, 0, NaN]\")\n",
    "had_epi_schema = ResponseSchema(name=\"had_epi\",\n",
    "                            description=\"Did the author have an epidural?\\\n",
    "                            1 for 'yes', 0 for 'no', NaN if you could not determine.\\\n",
    "                            Response should ONLY be one of: [1, 0, NaN]\")\n",
    "epi_pos_schema = ResponseSchema(name=\"epi_pos\",\n",
    "                            description=\"Does the message display a positive sentiment towards epidurals?\\\n",
    "                            1 for 'yes', 0 for 'neutral', -1 for 'negative sentiment', NaN if you could not determine.\\\n",
    "                            Response should ONLY be one of: [1, 0, -1, NaN]\")\n",
    "\n",
    "nat_pos_schema = ResponseSchema(name=\"nat_pos\",\n",
    "                            description=\"Does the message display a positive sentiment towards natural births?\\\n",
    "                            1 for 'yes', 0 for 'neutral', -1 for 'negative sentiment', NaN if you could not determine.\\\n",
    "                            Response should ONLY be one of: [1, 0, -1, NaN]\")\n",
    "\n",
    "response_schemas = [index_schema, about_epi_schema, had_epi_schema, epi_pos_schema, nat_pos_schema]\n",
    "\n",
    "output_parser = StructuredOutputParser.from_response_schemas(response_schemas)\n",
    "format_instructions = output_parser.get_format_instructions()\n",
    "prompt = ChatPromptTemplate.from_template(template=template_string)\n"
   ]
  },
  {
   "cell_type": "markdown",
   "metadata": {
    "id": "_v7382iAI9Kp"
   },
   "source": [
    "## Sample the full dataset and remove no-longer-needed columns"
   ]
  },
  {
   "cell_type": "code",
   "execution_count": 12,
   "metadata": {
    "colab": {
     "base_uri": "https://localhost:8080/",
     "height": 944
    },
    "id": "cGElL8WqOUpV",
    "outputId": "36cb472d-11a2-442b-b580-9a40106097f6"
   },
   "outputs": [
    {
     "data": {
      "text/html": [
       "<div>\n",
       "<style scoped>\n",
       "    .dataframe tbody tr th:only-of-type {\n",
       "        vertical-align: middle;\n",
       "    }\n",
       "\n",
       "    .dataframe tbody tr th {\n",
       "        vertical-align: top;\n",
       "    }\n",
       "\n",
       "    .dataframe thead th {\n",
       "        text-align: right;\n",
       "    }\n",
       "</style>\n",
       "<table border=\"1\" class=\"dataframe\">\n",
       "  <thead>\n",
       "    <tr style=\"text-align: right;\">\n",
       "      <th></th>\n",
       "      <th>Unnamed: 0</th>\n",
       "      <th>User</th>\n",
       "      <th>Time</th>\n",
       "      <th>Likes</th>\n",
       "      <th>Source</th>\n",
       "      <th>Tweet</th>\n",
       "      <th>cleaned_tweet</th>\n",
       "      <th>sent_analysis</th>\n",
       "      <th>topic</th>\n",
       "    </tr>\n",
       "  </thead>\n",
       "  <tbody>\n",
       "    <tr>\n",
       "      <th>287738</th>\n",
       "      <td>407371</td>\n",
       "      <td>nyerho90</td>\n",
       "      <td>2021-02-28 21:22:56+00:00</td>\n",
       "      <td>0.0</td>\n",
       "      <td>Twitter for Android</td>\n",
       "      <td>Goodness! God help women o. How can an epidura...</td>\n",
       "      <td>goodness! god help women o. how can an epidura...</td>\n",
       "      <td>{'label': 'negative', 'score': 0.9013873338699...</td>\n",
       "      <td>1</td>\n",
       "    </tr>\n",
       "    <tr>\n",
       "      <th>218326</th>\n",
       "      <td>297625</td>\n",
       "      <td>neeksGotCheeks_</td>\n",
       "      <td>2020-05-17 14:35:46+00:00</td>\n",
       "      <td>2.0</td>\n",
       "      <td>Twitter for iPhone</td>\n",
       "      <td>Baby epidural like that happiness you find aft...</td>\n",
       "      <td>baby epidural like that happiness you find aft...</td>\n",
       "      <td>{'label': 'positive', 'score': 0.7227402925491...</td>\n",
       "      <td>1</td>\n",
       "    </tr>\n",
       "    <tr>\n",
       "      <th>288218</th>\n",
       "      <td>408118</td>\n",
       "      <td>annamwaterworth</td>\n",
       "      <td>2021-02-24 18:00:03+00:00</td>\n",
       "      <td>0.0</td>\n",
       "      <td>Twitter for Android</td>\n",
       "      <td>@writerbrittanyb I've had 3, and for me epidur...</td>\n",
       "      <td>@user i've had 3, and for me epidurals were a ...</td>\n",
       "      <td>{'label': 'positive', 'score': 0.9518863558769...</td>\n",
       "      <td>1</td>\n",
       "    </tr>\n",
       "    <tr>\n",
       "      <th>327481</th>\n",
       "      <td>475744</td>\n",
       "      <td>yooSHEEM</td>\n",
       "      <td>2016-09-23 15:16:36+00:00</td>\n",
       "      <td>0.0</td>\n",
       "      <td>Twitter for iPhone</td>\n",
       "      <td>This epidural is the shit .. ð</td>\n",
       "      <td>this epidural is the shit .. ð</td>\n",
       "      <td>{'label': 'negative', 'score': 0.9312314391136...</td>\n",
       "      <td>1</td>\n",
       "    </tr>\n",
       "    <tr>\n",
       "      <th>155925</th>\n",
       "      <td>201370</td>\n",
       "      <td>windingvinew</td>\n",
       "      <td>2019-11-23 06:53:41+00:00</td>\n",
       "      <td>14.0</td>\n",
       "      <td>Twitter for iPhone</td>\n",
       "      <td>Sorry Iâve dropped off for a bit. My best fr...</td>\n",
       "      <td>sorry iâve dropped off for a bit. my best fr...</td>\n",
       "      <td>{'label': 'negative', 'score': 0.6979531049728...</td>\n",
       "      <td>1</td>\n",
       "    </tr>\n",
       "    <tr>\n",
       "      <th>...</th>\n",
       "      <td>...</td>\n",
       "      <td>...</td>\n",
       "      <td>...</td>\n",
       "      <td>...</td>\n",
       "      <td>...</td>\n",
       "      <td>...</td>\n",
       "      <td>...</td>\n",
       "      <td>...</td>\n",
       "      <td>...</td>\n",
       "    </tr>\n",
       "    <tr>\n",
       "      <th>261052</th>\n",
       "      <td>360776</td>\n",
       "      <td>AnneMac09720736</td>\n",
       "      <td>2021-12-15 19:14:33+00:00</td>\n",
       "      <td>1.0</td>\n",
       "      <td>Twitter for Android</td>\n",
       "      <td>@DonnaPo24392090 I didn't have an epidural wit...</td>\n",
       "      <td>@user i didn't have an epidural with emily. jo...</td>\n",
       "      <td>{'label': 'negative', 'score': 0.5342156887054...</td>\n",
       "      <td>1</td>\n",
       "    </tr>\n",
       "    <tr>\n",
       "      <th>39737</th>\n",
       "      <td>9488</td>\n",
       "      <td>Flyster</td>\n",
       "      <td>2009-02-25 23:16:38+00:00</td>\n",
       "      <td>0.0</td>\n",
       "      <td>Twitter Web Client</td>\n",
       "      <td>@purplejp I've had physio, accupuncture, ice, ...</td>\n",
       "      <td>@user i've had physio, accupuncture, ice, heat...</td>\n",
       "      <td>{'label': 'neutral', 'score': 0.7935362458229065}</td>\n",
       "      <td>1</td>\n",
       "    </tr>\n",
       "    <tr>\n",
       "      <th>252194</th>\n",
       "      <td>347502</td>\n",
       "      <td>LMARWE</td>\n",
       "      <td>2011-05-11 00:38:45+00:00</td>\n",
       "      <td>0.0</td>\n",
       "      <td>Twitter for Android</td>\n",
       "      <td>Trying to talk my sister out of the epidural. ...</td>\n",
       "      <td>trying to talk my sister out of the epidural. ...</td>\n",
       "      <td>{'label': 'positive', 'score': 0.5986480712890...</td>\n",
       "      <td>1</td>\n",
       "    </tr>\n",
       "    <tr>\n",
       "      <th>3484</th>\n",
       "      <td>69389</td>\n",
       "      <td>tracylpn72</td>\n",
       "      <td>2012-09-05 02:01:17+00:00</td>\n",
       "      <td>0.0</td>\n",
       "      <td>TweetCaster for Android</td>\n",
       "      <td>@BravoNutt How much did she weigh &amp;amp; how lo...</td>\n",
       "      <td>@user how much did she weigh &amp;amp; how long wa...</td>\n",
       "      <td>{'label': 'neutral', 'score': 0.8854600787162781}</td>\n",
       "      <td>1</td>\n",
       "    </tr>\n",
       "    <tr>\n",
       "      <th>293887</th>\n",
       "      <td>417343</td>\n",
       "      <td>AvantasianTree</td>\n",
       "      <td>2021-01-03 22:33:30+00:00</td>\n",
       "      <td>1.0</td>\n",
       "      <td>Twitter for Android</td>\n",
       "      <td>@DWalters29 @AndreaGStewart Also do you guys s...</td>\n",
       "      <td>@user @user also do you guys seriously not get...</td>\n",
       "      <td>{'label': 'negative', 'score': 0.6499016880989...</td>\n",
       "      <td>1</td>\n",
       "    </tr>\n",
       "  </tbody>\n",
       "</table>\n",
       "<p>40000 rows × 9 columns</p>\n",
       "</div>"
      ],
      "text/plain": [
       "        Unnamed: 0             User                       Time  Likes  \\\n",
       "287738      407371         nyerho90  2021-02-28 21:22:56+00:00    0.0   \n",
       "218326      297625  neeksGotCheeks_  2020-05-17 14:35:46+00:00    2.0   \n",
       "288218      408118  annamwaterworth  2021-02-24 18:00:03+00:00    0.0   \n",
       "327481      475744         yooSHEEM  2016-09-23 15:16:36+00:00    0.0   \n",
       "155925      201370     windingvinew  2019-11-23 06:53:41+00:00   14.0   \n",
       "...            ...              ...                        ...    ...   \n",
       "261052      360776  AnneMac09720736  2021-12-15 19:14:33+00:00    1.0   \n",
       "39737         9488          Flyster  2009-02-25 23:16:38+00:00    0.0   \n",
       "252194      347502           LMARWE  2011-05-11 00:38:45+00:00    0.0   \n",
       "3484         69389       tracylpn72  2012-09-05 02:01:17+00:00    0.0   \n",
       "293887      417343   AvantasianTree  2021-01-03 22:33:30+00:00    1.0   \n",
       "\n",
       "                         Source  \\\n",
       "287738      Twitter for Android   \n",
       "218326       Twitter for iPhone   \n",
       "288218      Twitter for Android   \n",
       "327481       Twitter for iPhone   \n",
       "155925       Twitter for iPhone   \n",
       "...                         ...   \n",
       "261052      Twitter for Android   \n",
       "39737        Twitter Web Client   \n",
       "252194      Twitter for Android   \n",
       "3484    TweetCaster for Android   \n",
       "293887      Twitter for Android   \n",
       "\n",
       "                                                    Tweet  \\\n",
       "287738  Goodness! God help women o. How can an epidura...   \n",
       "218326  Baby epidural like that happiness you find aft...   \n",
       "288218  @writerbrittanyb I've had 3, and for me epidur...   \n",
       "327481                  This epidural is the shit .. ð   \n",
       "155925  Sorry Iâve dropped off for a bit. My best fr...   \n",
       "...                                                   ...   \n",
       "261052  @DonnaPo24392090 I didn't have an epidural wit...   \n",
       "39737   @purplejp I've had physio, accupuncture, ice, ...   \n",
       "252194  Trying to talk my sister out of the epidural. ...   \n",
       "3484    @BravoNutt How much did she weigh &amp; how lo...   \n",
       "293887  @DWalters29 @AndreaGStewart Also do you guys s...   \n",
       "\n",
       "                                            cleaned_tweet  \\\n",
       "287738  goodness! god help women o. how can an epidura...   \n",
       "218326  baby epidural like that happiness you find aft...   \n",
       "288218  @user i've had 3, and for me epidurals were a ...   \n",
       "327481                  this epidural is the shit .. ð   \n",
       "155925  sorry iâve dropped off for a bit. my best fr...   \n",
       "...                                                   ...   \n",
       "261052  @user i didn't have an epidural with emily. jo...   \n",
       "39737   @user i've had physio, accupuncture, ice, heat...   \n",
       "252194  trying to talk my sister out of the epidural. ...   \n",
       "3484    @user how much did she weigh &amp; how long wa...   \n",
       "293887  @user @user also do you guys seriously not get...   \n",
       "\n",
       "                                            sent_analysis  topic  \n",
       "287738  {'label': 'negative', 'score': 0.9013873338699...      1  \n",
       "218326  {'label': 'positive', 'score': 0.7227402925491...      1  \n",
       "288218  {'label': 'positive', 'score': 0.9518863558769...      1  \n",
       "327481  {'label': 'negative', 'score': 0.9312314391136...      1  \n",
       "155925  {'label': 'negative', 'score': 0.6979531049728...      1  \n",
       "...                                                   ...    ...  \n",
       "261052  {'label': 'negative', 'score': 0.5342156887054...      1  \n",
       "39737   {'label': 'neutral', 'score': 0.7935362458229065}      1  \n",
       "252194  {'label': 'positive', 'score': 0.5986480712890...      1  \n",
       "3484    {'label': 'neutral', 'score': 0.8854600787162781}      1  \n",
       "293887  {'label': 'negative', 'score': 0.6499016880989...      1  \n",
       "\n",
       "[40000 rows x 9 columns]"
      ]
     },
     "execution_count": 12,
     "metadata": {},
     "output_type": "execute_result"
    }
   ],
   "source": [
    "import numpy as np\n",
    "\n",
    "num_samples = 40000\n",
    "sample_of_tweets_df = df.sample(n=num_samples)\n",
    "sample_of_tweets_df"
   ]
  },
  {
   "cell_type": "markdown",
   "metadata": {
    "id": "__of8VjM5bb9"
   },
   "source": [
    "## Only keep the needed columns for this part"
   ]
  },
  {
   "cell_type": "code",
   "execution_count": 13,
   "metadata": {
    "colab": {
     "base_uri": "https://localhost:8080/",
     "height": 580
    },
    "id": "zxPeIrrPSXs3",
    "outputId": "215700e4-8535-435f-ce69-5e73f01edcc4"
   },
   "outputs": [
    {
     "name": "stderr",
     "output_type": "stream",
     "text": [
      "C:\\Users\\schwe\\AppData\\Local\\Temp\\ipykernel_28532\\3339471427.py:4: SettingWithCopyWarning: \n",
      "A value is trying to be set on a copy of a slice from a DataFrame.\n",
      "Try using .loc[row_indexer,col_indexer] = value instead\n",
      "\n",
      "See the caveats in the documentation: https://pandas.pydata.org/pandas-docs/stable/user_guide/indexing.html#returning-a-view-versus-a-copy\n",
      "  df2['old_index'] = df2.index\n"
     ]
    },
    {
     "data": {
      "text/html": [
       "<div>\n",
       "<style scoped>\n",
       "    .dataframe tbody tr th:only-of-type {\n",
       "        vertical-align: middle;\n",
       "    }\n",
       "\n",
       "    .dataframe tbody tr th {\n",
       "        vertical-align: top;\n",
       "    }\n",
       "\n",
       "    .dataframe thead th {\n",
       "        text-align: right;\n",
       "    }\n",
       "</style>\n",
       "<table border=\"1\" class=\"dataframe\">\n",
       "  <thead>\n",
       "    <tr style=\"text-align: right;\">\n",
       "      <th></th>\n",
       "      <th>index</th>\n",
       "      <th>cleaned_tweet</th>\n",
       "      <th>old_index</th>\n",
       "    </tr>\n",
       "  </thead>\n",
       "  <tbody>\n",
       "    <tr>\n",
       "      <th>0</th>\n",
       "      <td>287738</td>\n",
       "      <td>goodness! god help women o. how can an epidura...</td>\n",
       "      <td>287738</td>\n",
       "    </tr>\n",
       "    <tr>\n",
       "      <th>1</th>\n",
       "      <td>218326</td>\n",
       "      <td>baby epidural like that happiness you find aft...</td>\n",
       "      <td>218326</td>\n",
       "    </tr>\n",
       "    <tr>\n",
       "      <th>2</th>\n",
       "      <td>288218</td>\n",
       "      <td>@user i've had 3, and for me epidurals were a ...</td>\n",
       "      <td>288218</td>\n",
       "    </tr>\n",
       "    <tr>\n",
       "      <th>3</th>\n",
       "      <td>327481</td>\n",
       "      <td>this epidural is the shit .. ð</td>\n",
       "      <td>327481</td>\n",
       "    </tr>\n",
       "    <tr>\n",
       "      <th>4</th>\n",
       "      <td>155925</td>\n",
       "      <td>sorry iâve dropped off for a bit. my best fr...</td>\n",
       "      <td>155925</td>\n",
       "    </tr>\n",
       "    <tr>\n",
       "      <th>...</th>\n",
       "      <td>...</td>\n",
       "      <td>...</td>\n",
       "      <td>...</td>\n",
       "    </tr>\n",
       "    <tr>\n",
       "      <th>39995</th>\n",
       "      <td>261052</td>\n",
       "      <td>@user i didn't have an epidural with emily. jo...</td>\n",
       "      <td>261052</td>\n",
       "    </tr>\n",
       "    <tr>\n",
       "      <th>39996</th>\n",
       "      <td>39737</td>\n",
       "      <td>@user i've had physio, accupuncture, ice, heat...</td>\n",
       "      <td>39737</td>\n",
       "    </tr>\n",
       "    <tr>\n",
       "      <th>39997</th>\n",
       "      <td>252194</td>\n",
       "      <td>trying to talk my sister out of the epidural. ...</td>\n",
       "      <td>252194</td>\n",
       "    </tr>\n",
       "    <tr>\n",
       "      <th>39998</th>\n",
       "      <td>3484</td>\n",
       "      <td>@user how much did she weigh &amp;amp; how long wa...</td>\n",
       "      <td>3484</td>\n",
       "    </tr>\n",
       "    <tr>\n",
       "      <th>39999</th>\n",
       "      <td>293887</td>\n",
       "      <td>@user @user also do you guys seriously not get...</td>\n",
       "      <td>293887</td>\n",
       "    </tr>\n",
       "  </tbody>\n",
       "</table>\n",
       "<p>40000 rows × 3 columns</p>\n",
       "</div>"
      ],
      "text/plain": [
       "        index                                      cleaned_tweet  old_index\n",
       "0      287738  goodness! god help women o. how can an epidura...     287738\n",
       "1      218326  baby epidural like that happiness you find aft...     218326\n",
       "2      288218  @user i've had 3, and for me epidurals were a ...     288218\n",
       "3      327481                  this epidural is the shit .. ð     327481\n",
       "4      155925  sorry iâve dropped off for a bit. my best fr...     155925\n",
       "...       ...                                                ...        ...\n",
       "39995  261052  @user i didn't have an epidural with emily. jo...     261052\n",
       "39996   39737  @user i've had physio, accupuncture, ice, heat...      39737\n",
       "39997  252194  trying to talk my sister out of the epidural. ...     252194\n",
       "39998    3484  @user how much did she weigh &amp; how long wa...       3484\n",
       "39999  293887  @user @user also do you guys seriously not get...     293887\n",
       "\n",
       "[40000 rows x 3 columns]"
      ]
     },
     "execution_count": 13,
     "metadata": {},
     "output_type": "execute_result"
    }
   ],
   "source": [
    "############## Only keep the cleaned_tweets for this section ############\n",
    "sample_of_tweets_df = sample_of_tweets_df[['cleaned_tweet']]\n",
    "# Save off the old index so it will be easy to merge the results DF and the original\n",
    "sample_of_tweets_df['old_index'] = sample_of_tweets_df.index\n",
    "\n",
    "# Reset the index so it will be easier to group the tweets and send them as batches\n",
    "sample_of_tweets_df.reset_index(inplace=True)\n",
    "sample_of_tweets_df"
   ]
  },
  {
   "cell_type": "markdown",
   "metadata": {
    "id": "tUhtYfvWSXZ2"
   },
   "source": []
  },
  {
   "cell_type": "markdown",
   "metadata": {
    "id": "ImzRzAycV1bi"
   },
   "source": [
    "## Send the tweets to the model\n",
    "\n",
    "### The groupby snags x rows from `sample_of_tweets_df` at a time, then builds a list of the tweets preceeded by their original index. The format instructions are already embedded into the prompt. Here we are creating the `text` component.\n",
    "- For each batch, get and parse the responses. The response dictionaries are appended to a list of response dictionaries.\n",
    "- Lots of debugging prints commented out. Feel free to uncomment to see what's going on, but it may add significant amounts of text."
   ]
  },
  {
   "cell_type": "code",
   "execution_count": null,
   "metadata": {
    "colab": {
     "base_uri": "https://localhost:8080/"
    },
    "id": "5dC91A56Ob0l",
    "outputId": "cb22195c-4b44-4940-e985-6a26b12ab0f7"
   },
   "outputs": [],
   "source": [
    "import json\n",
    "import regex as re\n",
    "\n",
    "\n",
    "all_responses_list_of_dicts = list()\n",
    "\n",
    "send_message = False\n",
    "all_messages = []\n",
    "\n",
    "\n",
    "group_size = 20\n",
    "\n",
    "for i, g in sample_of_tweets_df.groupby(sample_of_tweets_df.index // group_size):\n",
    "  try:\n",
    "    # print('-'*50)\n",
    "    print(f'\\rGroup #{i}', end='')\n",
    "    msg_list = []\n",
    "    # print(g.to_dict())\n",
    "    for j, data in g.iterrows():\n",
    "      old_index = data['old_index']\n",
    "      tweet = data['cleaned_tweet']\n",
    "      # print(f'Adding tweet {old_index}: {tweet}')\n",
    "      msg_list.append(f'{old_index}) {tweet.encode(\"UTF-8\")}')\n",
    "    messages = prompt.format_messages(text='\\n'.join(msg_list),\n",
    "                              format_instructions=format_instructions)\n",
    "    all_messages.append(messages[0].content)\n",
    "    # print(messages[0].content)\n",
    "    if send_message:\n",
    "      response = chat(messages)\n",
    "      m = re.findall(r'\\{([^{]*?)\\}', response.content)\n",
    "      all_responses_list_of_dicts.extend([json.loads(f'{{{item}}}') for item in m])\n",
    "  except Exception as e:\n",
    "    print(e)\n",
    "\n",
    "# print('='*50)\n",
    "# print(all_responses_list_of_dicts)"
   ]
  },
  {
   "cell_type": "code",
   "execution_count": null,
   "metadata": {
    "colab": {
     "base_uri": "https://localhost:8080/"
    },
    "id": "rhvZHXbANVld",
    "outputId": "15e2720f-d30c-40a4-a61a-3e5bb7397139"
   },
   "outputs": [],
   "source": [
    "# Sample of the responses\n",
    "print(len(all_responses_list_of_dicts))\n",
    "print('Sample...:')\n",
    "all_responses_list_of_dicts[:2]"
   ]
  },
  {
   "cell_type": "markdown",
   "metadata": {
    "id": "QkHff3_nWlIo"
   },
   "source": [
    "### Put the list of response dicitonaries into a DataFrame"
   ]
  },
  {
   "cell_type": "code",
   "execution_count": null,
   "metadata": {
    "colab": {
     "base_uri": "https://localhost:8080/",
     "height": 112
    },
    "id": "UP6cHY07TPZB",
    "outputId": "d1fefd53-e1fd-47b2-a3df-81aa76bfb5ed"
   },
   "outputs": [],
   "source": [
    "pd.set_option('display.max_colwidth', None)\n",
    "\n",
    "\n",
    "temp_df = pd.DataFrame(all_responses_list_of_dicts)\n",
    "temp_df['index'] = pd.to_numeric(temp_df['index'])\n",
    "temp_df"
   ]
  },
  {
   "cell_type": "markdown",
   "metadata": {
    "id": "ce_859bzWq3C"
   },
   "source": [
    "## Merge the results with the original `sample_of_tweets_df` and original full dictionary"
   ]
  },
  {
   "cell_type": "code",
   "execution_count": null,
   "metadata": {
    "colab": {
     "base_uri": "https://localhost:8080/",
     "height": 112
    },
    "id": "5KvZpQRT5gpj",
    "outputId": "16b4ca50-442b-4b87-f6c9-579a500b2a87"
   },
   "outputs": [],
   "source": [
    "merged_results = sample_of_tweets_df.merge(right=temp_df, how='inner', left_on='old_index', right_on='index')\n",
    "merged_results"
   ]
  },
  {
   "cell_type": "code",
   "execution_count": null,
   "metadata": {
    "colab": {
     "base_uri": "https://localhost:8080/",
     "height": 355
    },
    "id": "dNjfT5V0ToEc",
    "outputId": "5fa10496-18e5-4a42-b000-77fb063b533b"
   },
   "outputs": [],
   "source": [
    "df['old_index'] = df.index\n",
    "filtered_df_merged_results = df.merge(right=temp_df, how='inner', left_on='old_index', right_on='index')\n",
    "filtered_df_merged_results"
   ]
  },
  {
   "cell_type": "markdown",
   "metadata": {
    "id": "G0CxSY7UXV5P"
   },
   "source": [
    "## Save and Download results"
   ]
  },
  {
   "cell_type": "code",
   "execution_count": null,
   "metadata": {
    "id": "6wwbt01TUkK_"
   },
   "outputs": [],
   "source": [
    "merged_results_file = 'merged_results.xlsx'\n",
    "filtered_df_merged_results_file = 'filtered_df_merged_results.xlsx'\n",
    "\n",
    "merged_results.to_excel(merged_results_file)\n",
    "filtered_df_merged_results.to_excel(filtered_df_merged_results_file)\n",
    "sample_of_tweets_df.to_excel('sample_of_tweets_df.xlsx')\n",
    "\n"
   ]
  },
  {
   "cell_type": "code",
   "execution_count": null,
   "metadata": {
    "id": "Koi993plkXAG"
   },
   "outputs": [],
   "source": []
  }
 ],
 "metadata": {
  "colab": {
   "collapsed_sections": [
    "cMzA6nVwj8GB"
   ],
   "provenance": []
  },
  "kernelspec": {
   "display_name": "Python 3 (ipykernel)",
   "language": "python",
   "name": "python3"
  },
  "language_info": {
   "codemirror_mode": {
    "name": "ipython",
    "version": 3
   },
   "file_extension": ".py",
   "mimetype": "text/x-python",
   "name": "python",
   "nbconvert_exporter": "python",
   "pygments_lexer": "ipython3",
   "version": "3.11.9"
  }
 },
 "nbformat": 4,
 "nbformat_minor": 1
}
